{
 "cells": [
  {
   "cell_type": "code",
   "execution_count": 1,
   "id": "c4780dfe",
   "metadata": {
    "execution": {
     "iopub.execute_input": "2025-03-19T23:11:32.738464Z",
     "iopub.status.busy": "2025-03-19T23:11:32.738100Z",
     "iopub.status.idle": "2025-03-19T23:11:32.748613Z",
     "shell.execute_reply": "2025-03-19T23:11:32.747441Z"
    },
    "papermill": {
     "duration": 0.015903,
     "end_time": "2025-03-19T23:11:32.749912",
     "exception": false,
     "start_time": "2025-03-19T23:11:32.734009",
     "status": "completed"
    },
    "tags": []
   },
   "outputs": [
    {
     "name": "stdout",
     "output_type": "stream",
     "text": [
      "from setuptools import setup, find_packages\n",
      "from pathlib import Path\n",
      "\n",
      "\n",
      "def read_file(filename: str) -> str:\n",
      "    with open(Path(__file__).parent / filename, mode='r', encoding='utf-8') as f:\n",
      "        return f.read()\n",
      "\n",
      "\n",
      "PACKAGE_NAME = 'convkan'\n",
      "\n",
      "long_description = read_file('README.md')\n",
      "long_description_content_type = 'text/markdown'\n",
      "\n",
      "python_requires = '>=3.8'\n",
      "install_requires = read_file('requirements.txt').splitlines()\n",
      "\n",
      "setup(\n",
      "    name=PACKAGE_NAME,\n",
      "    packages=find_packages(),\n",
      "    version='0.0.1.2',\n",
      "    author='Vladimir Starostin',\n",
      "    author_email='vladimir.starostin@uni-tuebingen.de',\n",
      "    license='MIT',\n",
      "    description='Convolutional KAN layer',\n",
      "    long_description=long_description,\n",
      "    long_description_content_type=long_description_content_type,\n",
      "    python_requires=python_requires,\n",
      "    install_requires=install_requires,\n",
      ")\n"
     ]
    }
   ],
   "source": [
    "with open('/kaggle/input/convulational_kan/pytorch/default/1/setup.py') as f:\n",
    "    print(f.read())\n"
   ]
  },
  {
   "cell_type": "code",
   "execution_count": 2,
   "id": "efa3cd6b",
   "metadata": {
    "execution": {
     "iopub.execute_input": "2025-03-19T23:11:32.756386Z",
     "iopub.status.busy": "2025-03-19T23:11:32.756185Z",
     "iopub.status.idle": "2025-03-19T23:12:12.670245Z",
     "shell.execute_reply": "2025-03-19T23:12:12.669194Z"
    },
    "papermill": {
     "duration": 39.91882,
     "end_time": "2025-03-19T23:12:12.671866",
     "exception": false,
     "start_time": "2025-03-19T23:11:32.753046",
     "status": "completed"
    },
    "tags": []
   },
   "outputs": [
    {
     "name": "stdout",
     "output_type": "stream",
     "text": [
      "Requirement already satisfied: pip in /usr/local/lib/python3.10/dist-packages (24.1.2)\r\n",
      "Collecting pip\r\n",
      "  Downloading pip-25.0.1-py3-none-any.whl.metadata (3.7 kB)\r\n",
      "Requirement already satisfied: wheel in /usr/local/lib/python3.10/dist-packages (0.45.1)\r\n",
      "Requirement already satisfied: setuptools in /usr/local/lib/python3.10/dist-packages (75.1.0)\r\n",
      "Collecting setuptools\r\n",
      "  Downloading setuptools-77.0.1-py3-none-any.whl.metadata (6.7 kB)\r\n",
      "Downloading pip-25.0.1-py3-none-any.whl (1.8 MB)\r\n",
      "\u001b[2K   \u001b[90m━━━━━━━━━━━━━━━━━━━━━━━━━━━━━━━━━━━━━━━━\u001b[0m \u001b[32m1.8/1.8 MB\u001b[0m \u001b[31m23.0 MB/s\u001b[0m eta \u001b[36m0:00:00\u001b[0m\r\n",
      "\u001b[?25hDownloading setuptools-77.0.1-py3-none-any.whl (1.3 MB)\r\n",
      "\u001b[2K   \u001b[90m━━━━━━━━━━━━━━━━━━━━━━━━━━━━━━━━━━━━━━━━\u001b[0m \u001b[32m1.3/1.3 MB\u001b[0m \u001b[31m46.1 MB/s\u001b[0m eta \u001b[36m0:00:00\u001b[0m\r\n",
      "\u001b[?25hInstalling collected packages: setuptools, pip\r\n",
      "  Attempting uninstall: setuptools\r\n",
      "    Found existing installation: setuptools 75.1.0\r\n",
      "    Uninstalling setuptools-75.1.0:\r\n",
      "      Successfully uninstalled setuptools-75.1.0\r\n",
      "  Attempting uninstall: pip\r\n",
      "    Found existing installation: pip 24.1.2\r\n",
      "    Uninstalling pip-24.1.2:\r\n",
      "      Successfully uninstalled pip-24.1.2\r\n",
      "\u001b[31mERROR: pip's dependency resolver does not currently take into account all the packages that are installed. This behaviour is the source of the following dependency conflicts.\r\n",
      "pandas-gbq 0.25.0 requires google-api-core<3.0.0dev,>=2.10.2, but you have google-api-core 1.34.1 which is incompatible.\r\n",
      "tensorflow-decision-forests 1.10.0 requires tensorflow==2.17.0, but you have tensorflow 2.17.1 which is incompatible.\u001b[0m\u001b[31m\r\n",
      "\u001b[0mSuccessfully installed pip-25.0.1 setuptools-77.0.1\r\n"
     ]
    }
   ],
   "source": [
    "!pip install --upgrade pip wheel setuptools\n"
   ]
  },
  {
   "cell_type": "code",
   "execution_count": 3,
   "id": "9806e58d",
   "metadata": {
    "execution": {
     "iopub.execute_input": "2025-03-19T23:12:12.679893Z",
     "iopub.status.busy": "2025-03-19T23:12:12.679667Z",
     "iopub.status.idle": "2025-03-19T23:12:16.161779Z",
     "shell.execute_reply": "2025-03-19T23:12:16.160752Z"
    },
    "papermill": {
     "duration": 3.487737,
     "end_time": "2025-03-19T23:12:16.163374",
     "exception": false,
     "start_time": "2025-03-19T23:12:12.675637",
     "status": "completed"
    },
    "tags": []
   },
   "outputs": [
    {
     "name": "stdout",
     "output_type": "stream",
     "text": [
      "Requirement already satisfied: torch>=2.3.0 in /usr/local/lib/python3.10/dist-packages (from -r /kaggle/input/convulational_kan/pytorch/default/1/requirements.txt (line 1)) (2.5.1+cu121)\r\n",
      "Requirement already satisfied: torchvision>=0.18.0 in /usr/local/lib/python3.10/dist-packages (from -r /kaggle/input/convulational_kan/pytorch/default/1/requirements.txt (line 2)) (0.20.1+cu121)\r\n",
      "Requirement already satisfied: tqdm>=4.66.2 in /usr/local/lib/python3.10/dist-packages (from -r /kaggle/input/convulational_kan/pytorch/default/1/requirements.txt (line 3)) (4.67.1)\r\n",
      "Requirement already satisfied: pytest>=6.2.4 in /usr/local/lib/python3.10/dist-packages (from -r /kaggle/input/convulational_kan/pytorch/default/1/requirements.txt (line 4)) (8.3.4)\r\n",
      "Requirement already satisfied: filelock in /usr/local/lib/python3.10/dist-packages (from torch>=2.3.0->-r /kaggle/input/convulational_kan/pytorch/default/1/requirements.txt (line 1)) (3.17.0)\r\n",
      "Requirement already satisfied: typing-extensions>=4.8.0 in /usr/local/lib/python3.10/dist-packages (from torch>=2.3.0->-r /kaggle/input/convulational_kan/pytorch/default/1/requirements.txt (line 1)) (4.12.2)\r\n",
      "Requirement already satisfied: networkx in /usr/local/lib/python3.10/dist-packages (from torch>=2.3.0->-r /kaggle/input/convulational_kan/pytorch/default/1/requirements.txt (line 1)) (3.4.2)\r\n",
      "Requirement already satisfied: jinja2 in /usr/local/lib/python3.10/dist-packages (from torch>=2.3.0->-r /kaggle/input/convulational_kan/pytorch/default/1/requirements.txt (line 1)) (3.1.4)\r\n",
      "Requirement already satisfied: fsspec in /usr/local/lib/python3.10/dist-packages (from torch>=2.3.0->-r /kaggle/input/convulational_kan/pytorch/default/1/requirements.txt (line 1)) (2024.12.0)\r\n",
      "Requirement already satisfied: sympy==1.13.1 in /usr/local/lib/python3.10/dist-packages (from torch>=2.3.0->-r /kaggle/input/convulational_kan/pytorch/default/1/requirements.txt (line 1)) (1.13.1)\r\n",
      "Requirement already satisfied: mpmath<1.4,>=1.1.0 in /usr/local/lib/python3.10/dist-packages (from sympy==1.13.1->torch>=2.3.0->-r /kaggle/input/convulational_kan/pytorch/default/1/requirements.txt (line 1)) (1.3.0)\r\n",
      "Requirement already satisfied: numpy in /usr/local/lib/python3.10/dist-packages (from torchvision>=0.18.0->-r /kaggle/input/convulational_kan/pytorch/default/1/requirements.txt (line 2)) (1.26.4)\r\n",
      "Requirement already satisfied: pillow!=8.3.*,>=5.3.0 in /usr/local/lib/python3.10/dist-packages (from torchvision>=0.18.0->-r /kaggle/input/convulational_kan/pytorch/default/1/requirements.txt (line 2)) (11.0.0)\r\n",
      "Requirement already satisfied: exceptiongroup>=1.0.0rc8 in /usr/local/lib/python3.10/dist-packages (from pytest>=6.2.4->-r /kaggle/input/convulational_kan/pytorch/default/1/requirements.txt (line 4)) (1.2.2)\r\n",
      "Requirement already satisfied: iniconfig in /usr/local/lib/python3.10/dist-packages (from pytest>=6.2.4->-r /kaggle/input/convulational_kan/pytorch/default/1/requirements.txt (line 4)) (2.0.0)\r\n",
      "Requirement already satisfied: packaging in /usr/local/lib/python3.10/dist-packages (from pytest>=6.2.4->-r /kaggle/input/convulational_kan/pytorch/default/1/requirements.txt (line 4)) (24.2)\r\n",
      "Requirement already satisfied: pluggy<2,>=1.5 in /usr/local/lib/python3.10/dist-packages (from pytest>=6.2.4->-r /kaggle/input/convulational_kan/pytorch/default/1/requirements.txt (line 4)) (1.5.0)\r\n",
      "Requirement already satisfied: tomli>=1 in /usr/local/lib/python3.10/dist-packages (from pytest>=6.2.4->-r /kaggle/input/convulational_kan/pytorch/default/1/requirements.txt (line 4)) (2.2.1)\r\n",
      "Requirement already satisfied: MarkupSafe>=2.0 in /usr/local/lib/python3.10/dist-packages (from jinja2->torch>=2.3.0->-r /kaggle/input/convulational_kan/pytorch/default/1/requirements.txt (line 1)) (3.0.2)\r\n",
      "Requirement already satisfied: mkl_fft in /usr/local/lib/python3.10/dist-packages (from numpy->torchvision>=0.18.0->-r /kaggle/input/convulational_kan/pytorch/default/1/requirements.txt (line 2)) (1.3.8)\r\n",
      "Requirement already satisfied: mkl_random in /usr/local/lib/python3.10/dist-packages (from numpy->torchvision>=0.18.0->-r /kaggle/input/convulational_kan/pytorch/default/1/requirements.txt (line 2)) (1.2.4)\r\n",
      "Requirement already satisfied: mkl_umath in /usr/local/lib/python3.10/dist-packages (from numpy->torchvision>=0.18.0->-r /kaggle/input/convulational_kan/pytorch/default/1/requirements.txt (line 2)) (0.1.1)\r\n",
      "Requirement already satisfied: mkl in /usr/local/lib/python3.10/dist-packages (from numpy->torchvision>=0.18.0->-r /kaggle/input/convulational_kan/pytorch/default/1/requirements.txt (line 2)) (2025.0.1)\r\n",
      "Requirement already satisfied: tbb4py in /usr/local/lib/python3.10/dist-packages (from numpy->torchvision>=0.18.0->-r /kaggle/input/convulational_kan/pytorch/default/1/requirements.txt (line 2)) (2022.0.0)\r\n",
      "Requirement already satisfied: mkl-service in /usr/local/lib/python3.10/dist-packages (from numpy->torchvision>=0.18.0->-r /kaggle/input/convulational_kan/pytorch/default/1/requirements.txt (line 2)) (2.4.1)\r\n",
      "Requirement already satisfied: intel-openmp>=2024 in /usr/local/lib/python3.10/dist-packages (from mkl->numpy->torchvision>=0.18.0->-r /kaggle/input/convulational_kan/pytorch/default/1/requirements.txt (line 2)) (2024.2.0)\r\n",
      "Requirement already satisfied: tbb==2022.* in /usr/local/lib/python3.10/dist-packages (from mkl->numpy->torchvision>=0.18.0->-r /kaggle/input/convulational_kan/pytorch/default/1/requirements.txt (line 2)) (2022.0.0)\r\n",
      "Requirement already satisfied: tcmlib==1.* in /usr/local/lib/python3.10/dist-packages (from tbb==2022.*->mkl->numpy->torchvision>=0.18.0->-r /kaggle/input/convulational_kan/pytorch/default/1/requirements.txt (line 2)) (1.2.0)\r\n",
      "Requirement already satisfied: intel-cmplr-lib-rt in /usr/local/lib/python3.10/dist-packages (from mkl_umath->numpy->torchvision>=0.18.0->-r /kaggle/input/convulational_kan/pytorch/default/1/requirements.txt (line 2)) (2024.2.0)\r\n",
      "Requirement already satisfied: intel-cmplr-lib-ur==2024.2.0 in /usr/local/lib/python3.10/dist-packages (from intel-openmp>=2024->mkl->numpy->torchvision>=0.18.0->-r /kaggle/input/convulational_kan/pytorch/default/1/requirements.txt (line 2)) (2024.2.0)\r\n"
     ]
    }
   ],
   "source": [
    "!pip install -r /kaggle/input/convulational_kan/pytorch/default/1/requirements.txt\n"
   ]
  },
  {
   "cell_type": "code",
   "execution_count": 4,
   "id": "61975279",
   "metadata": {
    "execution": {
     "iopub.execute_input": "2025-03-19T23:12:16.172240Z",
     "iopub.status.busy": "2025-03-19T23:12:16.171913Z",
     "iopub.status.idle": "2025-03-19T23:12:16.305132Z",
     "shell.execute_reply": "2025-03-19T23:12:16.303910Z"
    },
    "papermill": {
     "duration": 0.139289,
     "end_time": "2025-03-19T23:12:16.306695",
     "exception": false,
     "start_time": "2025-03-19T23:12:16.167406",
     "status": "completed"
    },
    "tags": []
   },
   "outputs": [],
   "source": [
    "!cp -r /kaggle/input/convulational_kan/pytorch/default/1/convkan .\n"
   ]
  },
  {
   "cell_type": "code",
   "execution_count": 5,
   "id": "9560ba03",
   "metadata": {
    "execution": {
     "iopub.execute_input": "2025-03-19T23:12:16.315091Z",
     "iopub.status.busy": "2025-03-19T23:12:16.314783Z",
     "iopub.status.idle": "2025-03-19T23:12:25.662269Z",
     "shell.execute_reply": "2025-03-19T23:12:25.661459Z"
    },
    "papermill": {
     "duration": 9.353313,
     "end_time": "2025-03-19T23:12:25.663765",
     "exception": false,
     "start_time": "2025-03-19T23:12:16.310452",
     "status": "completed"
    },
    "tags": []
   },
   "outputs": [],
   "source": [
    "import torch\n",
    "from torch import nn\n",
    "from torchvision import datasets, transforms\n",
    "from tqdm import tqdm\n",
    "from torch.utils.data import DataLoader, random_split\n",
    "\n",
    "from convkan import ConvKAN, LayerNorm2D\n",
    "\n",
    "# ✅ Define the device (use GPU if available, otherwise use CPU)\n",
    "device = torch.device(\"cuda\" if torch.cuda.is_available() else \"cpu\")"
   ]
  },
  {
   "cell_type": "code",
   "execution_count": 6,
   "id": "ea6a0d80",
   "metadata": {
    "execution": {
     "iopub.execute_input": "2025-03-19T23:12:25.672757Z",
     "iopub.status.busy": "2025-03-19T23:12:25.672421Z",
     "iopub.status.idle": "2025-03-19T23:12:25.676755Z",
     "shell.execute_reply": "2025-03-19T23:12:25.675979Z"
    },
    "papermill": {
     "duration": 0.010123,
     "end_time": "2025-03-19T23:12:25.677933",
     "exception": false,
     "start_time": "2025-03-19T23:12:25.667810",
     "status": "completed"
    },
    "tags": []
   },
   "outputs": [
    {
     "name": "stdout",
     "output_type": "stream",
     "text": [
      "True\n"
     ]
    }
   ],
   "source": [
    "import torch\n",
    "print(torch.cuda.is_available())\n"
   ]
  },
  {
   "cell_type": "code",
   "execution_count": 7,
   "id": "89cb8c03",
   "metadata": {
    "execution": {
     "iopub.execute_input": "2025-03-19T23:12:25.686023Z",
     "iopub.status.busy": "2025-03-19T23:12:25.685749Z",
     "iopub.status.idle": "2025-03-19T23:12:58.376356Z",
     "shell.execute_reply": "2025-03-19T23:12:58.375391Z"
    },
    "papermill": {
     "duration": 32.696479,
     "end_time": "2025-03-19T23:12:58.378105",
     "exception": false,
     "start_time": "2025-03-19T23:12:25.681626",
     "status": "completed"
    },
    "tags": []
   },
   "outputs": [],
   "source": [
    "# Define transformations (resize, normalize, convert to tensor)\n",
    "transform = transforms.Compose([\n",
    "    transforms.Grayscale(num_output_channels=3),  # Convert grayscale to RGB\n",
    "    transforms.Resize((224, 224)),\n",
    "    transforms.ToTensor(),\n",
    "    transforms.Normalize(mean=[0.485, 0.456, 0.406], std=[0.229, 0.224, 0.225])\n",
    "])\n",
    "\n",
    "# Load the dataset using ImageFolder\n",
    "dataset = datasets.ImageFolder(root='/kaggle/input/plantdisease/PlantVillage', transform=transform)\n",
    "\n",
    "# Split into training and test sets (80% train, 20% test)\n",
    "train_size = int(0.8 * len(dataset))\n",
    "test_size = len(dataset) - train_size\n",
    "train_set, test_set = random_split(dataset, [train_size, test_size])\n",
    "\n",
    "# Create DataLoaders\n",
    "train_loader = DataLoader(train_set, batch_size=4, shuffle=True)\n",
    "test_loader = DataLoader(test_set, batch_size=4, shuffle=False)"
   ]
  },
  {
   "cell_type": "code",
   "execution_count": 8,
   "id": "7eb23e83",
   "metadata": {
    "execution": {
     "iopub.execute_input": "2025-03-19T23:12:58.386892Z",
     "iopub.status.busy": "2025-03-19T23:12:58.386652Z",
     "iopub.status.idle": "2025-03-19T23:12:58.855640Z",
     "shell.execute_reply": "2025-03-19T23:12:58.854601Z"
    },
    "papermill": {
     "duration": 0.475275,
     "end_time": "2025-03-19T23:12:58.857554",
     "exception": false,
     "start_time": "2025-03-19T23:12:58.382279",
     "status": "completed"
    },
    "tags": []
   },
   "outputs": [],
   "source": [
    "num_classes = len(dataset.classes)\n",
    "\n",
    "model = nn.Sequential(\n",
    "    ConvKAN(3, 32, padding=1, kernel_size=3, stride=1),  # 3 channels for RGB\n",
    "    LayerNorm2D(32),\n",
    "    ConvKAN(32, 32, padding=1, kernel_size=3, stride=2),\n",
    "    LayerNorm2D(32),\n",
    "    ConvKAN(32, num_classes, padding=1, kernel_size=3, stride=2),  # Match num_classes\n",
    "    nn.AdaptiveAvgPool2d(1),\n",
    "    nn.Flatten(),\n",
    ").to(device)\n"
   ]
  },
  {
   "cell_type": "code",
   "execution_count": 9,
   "id": "7e0af62c",
   "metadata": {
    "execution": {
     "iopub.execute_input": "2025-03-19T23:12:58.865850Z",
     "iopub.status.busy": "2025-03-19T23:12:58.865616Z",
     "iopub.status.idle": "2025-03-19T23:12:58.869578Z",
     "shell.execute_reply": "2025-03-19T23:12:58.868683Z"
    },
    "papermill": {
     "duration": 0.009347,
     "end_time": "2025-03-19T23:12:58.870816",
     "exception": false,
     "start_time": "2025-03-19T23:12:58.861469",
     "status": "completed"
    },
    "tags": []
   },
   "outputs": [
    {
     "name": "stdout",
     "output_type": "stream",
     "text": [
      "{'Pepper__bell___Bacterial_spot': 0, 'Pepper__bell___healthy': 1, 'Potato___Early_blight': 2, 'Potato___Late_blight': 3, 'Potato___healthy': 4, 'Tomato_Bacterial_spot': 5, 'Tomato_Early_blight': 6, 'Tomato_Late_blight': 7, 'Tomato_Leaf_Mold': 8, 'Tomato_Septoria_leaf_spot': 9, 'Tomato_Spider_mites_Two_spotted_spider_mite': 10, 'Tomato__Target_Spot': 11, 'Tomato__Tomato_YellowLeaf__Curl_Virus': 12, 'Tomato__Tomato_mosaic_virus': 13, 'Tomato_healthy': 14}\n"
     ]
    }
   ],
   "source": [
    "print(dataset.class_to_idx)\n"
   ]
  },
  {
   "cell_type": "code",
   "execution_count": 10,
   "id": "a1fde9fc",
   "metadata": {
    "execution": {
     "iopub.execute_input": "2025-03-19T23:12:58.878983Z",
     "iopub.status.busy": "2025-03-19T23:12:58.878734Z",
     "iopub.status.idle": "2025-03-19T23:12:58.882466Z",
     "shell.execute_reply": "2025-03-19T23:12:58.881723Z"
    },
    "papermill": {
     "duration": 0.009133,
     "end_time": "2025-03-19T23:12:58.883668",
     "exception": false,
     "start_time": "2025-03-19T23:12:58.874535",
     "status": "completed"
    },
    "tags": []
   },
   "outputs": [],
   "source": [
    "# Define the loss function and optimizer\n",
    "criterion = nn.CrossEntropyLoss()\n",
    "optimizer = torch.optim.AdamW(model.parameters(), lr=1e-4)\n"
   ]
  },
  {
   "cell_type": "code",
   "execution_count": 11,
   "id": "32199dcc",
   "metadata": {
    "execution": {
     "iopub.execute_input": "2025-03-19T23:12:58.891498Z",
     "iopub.status.busy": "2025-03-19T23:12:58.891304Z",
     "iopub.status.idle": "2025-03-20T02:38:03.148925Z",
     "shell.execute_reply": "2025-03-20T02:38:03.147598Z"
    },
    "papermill": {
     "duration": 12304.263222,
     "end_time": "2025-03-20T02:38:03.150554",
     "exception": false,
     "start_time": "2025-03-19T23:12:58.887332",
     "status": "completed"
    },
    "tags": []
   },
   "outputs": [
    {
     "name": "stdout",
     "output_type": "stream",
     "text": [
      "Epoch 1/5\n"
     ]
    },
    {
     "name": "stderr",
     "output_type": "stream",
     "text": [
      "Epoch 1 | Loss: 2.3812: 100%|██████████| 4128/4128 [41:16<00:00,  1.67it/s]\n"
     ]
    },
    {
     "name": "stdout",
     "output_type": "stream",
     "text": [
      "Epoch 2/5\n"
     ]
    },
    {
     "name": "stderr",
     "output_type": "stream",
     "text": [
      "Epoch 2 | Loss: 2.2657: 100%|██████████| 4128/4128 [39:55<00:00,  1.72it/s]\n"
     ]
    },
    {
     "name": "stdout",
     "output_type": "stream",
     "text": [
      "Epoch 3/5\n"
     ]
    },
    {
     "name": "stderr",
     "output_type": "stream",
     "text": [
      "Epoch 3 | Loss: 2.1485: 100%|██████████| 4128/4128 [39:53<00:00,  1.72it/s]\n"
     ]
    },
    {
     "name": "stdout",
     "output_type": "stream",
     "text": [
      "Epoch 4/5\n"
     ]
    },
    {
     "name": "stderr",
     "output_type": "stream",
     "text": [
      "Epoch 4 | Loss: 1.2081: 100%|██████████| 4128/4128 [39:54<00:00,  1.72it/s]\n"
     ]
    },
    {
     "name": "stdout",
     "output_type": "stream",
     "text": [
      "Epoch 5/5\n"
     ]
    },
    {
     "name": "stderr",
     "output_type": "stream",
     "text": [
      "Epoch 5 | Loss: 1.2069: 100%|██████████| 4128/4128 [39:56<00:00,  1.72it/s]\n"
     ]
    },
    {
     "name": "stdout",
     "output_type": "stream",
     "text": [
      "✅ Training Complete!\n"
     ]
    },
    {
     "name": "stderr",
     "output_type": "stream",
     "text": [
      "Accuracy: 51.21%: 100%|██████████| 1032/1032 [04:08<00:00,  4.16it/s]"
     ]
    },
    {
     "name": "stdout",
     "output_type": "stream",
     "text": [
      "Final Test Accuracy: 51.21%\n"
     ]
    },
    {
     "name": "stderr",
     "output_type": "stream",
     "text": [
      "\n"
     ]
    }
   ],
   "source": [
    "epochs = 5  # Set desired number of epochs\n",
    "\n",
    "for epoch in range(epochs):\n",
    "    print(f\"Epoch {epoch + 1}/{epochs}\")\n",
    "    model.train()\n",
    "    pbar = tqdm(train_loader, desc=f'Epoch {epoch+1}')\n",
    "\n",
    "    for i, (x, y) in enumerate(pbar):\n",
    "        x, y = x.to(device), y.to(device)\n",
    "        \n",
    "        optimizer.zero_grad()\n",
    "        y_hat = model(x)\n",
    "        loss = criterion(y_hat, y)\n",
    "        \n",
    "        loss.backward()\n",
    "        optimizer.step()\n",
    "        \n",
    "        pbar.set_description(f'Epoch {epoch+1} | Loss: {loss.item():.4f}')\n",
    "\n",
    "    # Save model checkpoint each epoch if desired\n",
    "    torch.save(model.state_dict(), f'plant_disease_model_epoch_{epoch+1}.pth')\n",
    "\n",
    "print(\"✅ Training Complete!\")\n",
    "# ✅ Evaluate the model\n",
    "model.eval()\n",
    "correct = 0\n",
    "total = 0\n",
    "\n",
    "with torch.no_grad():  # No gradient calculation during inference\n",
    "    pbar = tqdm(test_loader)\n",
    "    for x, y in pbar:\n",
    "        # Move test data to the device\n",
    "        x, y = x.to(device), y.to(device)\n",
    "        \n",
    "        y_hat = model(x)                   # Forward pass\n",
    "        _, predicted = torch.max(y_hat, 1)  # Get predicted class\n",
    "        total += y.size(0)\n",
    "        correct += (predicted == y).sum().item()\n",
    "        \n",
    "        # Update progress bar with current accuracy\n",
    "        pbar.set_description(f'Accuracy: {100 * correct / total:.2f}%')\n",
    "\n",
    "# ✅ Print final test accuracy\n",
    "print(f'Final Test Accuracy: {100 * correct / total:.2f}%')"
   ]
  },
  {
   "cell_type": "code",
   "execution_count": null,
   "id": "3029bad9",
   "metadata": {
    "papermill": {
     "duration": 2.050293,
     "end_time": "2025-03-20T02:38:07.262496",
     "exception": false,
     "start_time": "2025-03-20T02:38:05.212203",
     "status": "completed"
    },
    "tags": []
   },
   "outputs": [],
   "source": []
  }
 ],
 "metadata": {
  "kaggle": {
   "accelerator": "nvidiaTeslaT4",
   "dataSources": [
    {
     "datasetId": 70909,
     "sourceId": 150545,
     "sourceType": "datasetVersion"
    },
    {
     "isSourceIdPinned": true,
     "modelId": 272101,
     "modelInstanceId": 250612,
     "sourceId": 292550,
     "sourceType": "modelInstanceVersion"
    }
   ],
   "dockerImageVersionId": 30919,
   "isGpuEnabled": true,
   "isInternetEnabled": true,
   "language": "python",
   "sourceType": "notebook"
  },
  "kernelspec": {
   "display_name": "Python 3",
   "language": "python",
   "name": "python3"
  },
  "language_info": {
   "codemirror_mode": {
    "name": "ipython",
    "version": 3
   },
   "file_extension": ".py",
   "mimetype": "text/x-python",
   "name": "python",
   "nbconvert_exporter": "python",
   "pygments_lexer": "ipython3",
   "version": "3.10.12"
  },
  "papermill": {
   "default_parameters": {},
   "duration": 12403.260137,
   "end_time": "2025-03-20T02:38:12.434710",
   "environment_variables": {},
   "exception": null,
   "input_path": "__notebook__.ipynb",
   "output_path": "__notebook__.ipynb",
   "parameters": {},
   "start_time": "2025-03-19T23:11:29.174573",
   "version": "2.6.0"
  }
 },
 "nbformat": 4,
 "nbformat_minor": 5
}
